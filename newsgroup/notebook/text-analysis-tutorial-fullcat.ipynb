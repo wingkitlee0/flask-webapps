{
 "cells": [
  {
   "cell_type": "markdown",
   "metadata": {},
   "source": [
    "# Text analysis tutorial"
   ]
  },
  {
   "cell_type": "code",
   "execution_count": 1,
   "metadata": {},
   "outputs": [],
   "source": [
    "categories = ['alt.atheism',\n",
    " 'comp.sys.mac.hardware',\n",
    " 'rec.motorcycles',\n",
    " 'sci.electronics',\n",
    " 'talk.politics.guns',\n",
    " 'comp.graphics',\n",
    " 'comp.windows.x',\n",
    " 'rec.sport.baseball',\n",
    " 'sci.med',\n",
    " 'talk.politics.mideast',\n",
    " 'comp.os.ms-windows.misc',\n",
    " 'misc.forsale',\n",
    " 'rec.sport.hockey',\n",
    " 'sci.space',\n",
    " 'talk.politics.misc',\n",
    " 'comp.sys.ibm.pc.hardware',\n",
    " 'rec.autos',\n",
    " 'sci.crypt',\n",
    " 'soc.religion.christian',\n",
    " 'talk.religion.misc']"
   ]
  },
  {
   "cell_type": "code",
   "execution_count": 2,
   "metadata": {},
   "outputs": [],
   "source": [
    "from sklearn.datasets import fetch_20newsgroups"
   ]
  },
  {
   "cell_type": "code",
   "execution_count": 3,
   "metadata": {},
   "outputs": [],
   "source": [
    "# twenty_train = fetch_20newsgroups(subset='train', categories=categories, shuffle=True, random_state=42)\n",
    "from sklearn.datasets import load_files\n",
    "twenty_train = load_files(\"../data/twenty_newsgroups/20news-bydate-train/\", \n",
    "                           categories=categories, shuffle=True, random_state=42, \n",
    "                           encoding=\"iso-8859-1\")"
   ]
  },
  {
   "cell_type": "code",
   "execution_count": 4,
   "metadata": {},
   "outputs": [
    {
     "data": {
      "text/plain": [
       "dict_keys(['data', 'filenames', 'target_names', 'target', 'DESCR'])"
      ]
     },
     "execution_count": 4,
     "metadata": {},
     "output_type": "execute_result"
    }
   ],
   "source": [
    "twenty_train.keys()"
   ]
  },
  {
   "cell_type": "code",
   "execution_count": 5,
   "metadata": {},
   "outputs": [
    {
     "name": "stdout",
     "output_type": "stream",
     "text": [
      "From: wtm@uhura.neoucom.edu (Bill Mayhew)\n",
      "Subject: Re: How to the disks copy protected.\n",
      "Organization: Northeastern Ohio Universities College of Medicine\n"
     ]
    }
   ],
   "source": [
    "print(\"\\n\".join(twenty_train.data[0].split(\"\\n\")[:3]))"
   ]
  },
  {
   "cell_type": "code",
   "execution_count": 6,
   "metadata": {},
   "outputs": [
    {
     "name": "stdout",
     "output_type": "stream",
     "text": [
      "sci.electronics\n"
     ]
    }
   ],
   "source": [
    "print(twenty_train.target_names[twenty_train.target[0]])"
   ]
  },
  {
   "cell_type": "code",
   "execution_count": 7,
   "metadata": {},
   "outputs": [
    {
     "data": {
      "text/plain": [
       "(11314, 10000)"
      ]
     },
     "execution_count": 7,
     "metadata": {},
     "output_type": "execute_result"
    }
   ],
   "source": [
    "from sklearn.feature_extraction.text import CountVectorizer\n",
    "count_vect = CountVectorizer(max_features=10000) # only pick top `n_features` of words \n",
    "X_train_counts = count_vect.fit_transform(twenty_train.data)\n",
    "X_train_counts.shape"
   ]
  },
  {
   "cell_type": "code",
   "execution_count": 8,
   "metadata": {},
   "outputs": [
    {
     "data": {
      "text/plain": [
       "895"
      ]
     },
     "execution_count": 8,
     "metadata": {},
     "output_type": "execute_result"
    }
   ],
   "source": [
    "count_vect.vocabulary_.get(u'algorithm')"
   ]
  },
  {
   "cell_type": "markdown",
   "metadata": {},
   "source": [
    "# Term Frequencies"
   ]
  },
  {
   "cell_type": "code",
   "execution_count": 9,
   "metadata": {},
   "outputs": [
    {
     "data": {
      "text/plain": [
       "(11314, 10000)"
      ]
     },
     "execution_count": 9,
     "metadata": {},
     "output_type": "execute_result"
    }
   ],
   "source": [
    "from sklearn.feature_extraction.text import TfidfTransformer\n",
    "tf_transformer = TfidfTransformer(use_idf=False).fit(X_train_counts)\n",
    "X_train_tf = tf_transformer.transform(X_train_counts)\n",
    "X_train_tf.shape"
   ]
  },
  {
   "cell_type": "code",
   "execution_count": 11,
   "metadata": {},
   "outputs": [
    {
     "name": "stdout",
     "output_type": "stream",
     "text": [
      "10000\n"
     ]
    }
   ],
   "source": [
    "int2word = {v: k for k,v in count_vect.vocabulary_.items()} # create a dict: index -> word\n",
    "print(len(int2word))"
   ]
  },
  {
   "cell_type": "code",
   "execution_count": null,
   "metadata": {},
   "outputs": [],
   "source": []
  },
  {
   "cell_type": "code",
   "execution_count": 12,
   "metadata": {},
   "outputs": [
    {
     "data": {
      "text/plain": [
       "(11314, 10000)"
      ]
     },
     "execution_count": 12,
     "metadata": {},
     "output_type": "execute_result"
    }
   ],
   "source": [
    "tfidf_transformer = TfidfTransformer()\n",
    "X_train_tfidf = tfidf_transformer.fit_transform(X_train_counts)\n",
    "X_train_tfidf.shape"
   ]
  },
  {
   "cell_type": "code",
   "execution_count": 13,
   "metadata": {},
   "outputs": [],
   "source": [
    "from sklearn.naive_bayes import MultinomialNB\n",
    "clf = MultinomialNB().fit(X_train_tfidf, twenty_train.target)"
   ]
  },
  {
   "cell_type": "code",
   "execution_count": 14,
   "metadata": {},
   "outputs": [
    {
     "data": {
      "text/plain": [
       "(11314, 10000)"
      ]
     },
     "execution_count": 14,
     "metadata": {},
     "output_type": "execute_result"
    }
   ],
   "source": [
    "X_train_counts.shape"
   ]
  },
  {
   "cell_type": "code",
   "execution_count": 15,
   "metadata": {},
   "outputs": [
    {
     "name": "stdout",
     "output_type": "stream",
     "text": [
      "'God is love' => soc.religion.christian\n",
      "'OpenGL on the GPU is fast' => rec.autos\n",
      "'Do you have cancer?' => sci.med\n"
     ]
    }
   ],
   "source": [
    "docs_new = ['God is love', 'OpenGL on the GPU is fast', 'Do you have cancer?']\n",
    "X_new_counts = count_vect.transform(docs_new)\n",
    "X_new_tfidf = tfidf_transformer.transform(X_new_counts)\n",
    "\n",
    "predicted = clf.predict(X_new_tfidf)\n",
    "\n",
    "for doc, category in zip(docs_new, predicted):\n",
    "    print('%r => %s' % (doc, twenty_train.target_names[category]))"
   ]
  },
  {
   "cell_type": "code",
   "execution_count": 16,
   "metadata": {},
   "outputs": [
    {
     "data": {
      "text/plain": [
       "array([[0.10498179, 0.01888494, 0.01804034, 0.02425729, 0.01223267,\n",
       "        0.01444002, 0.01629914, 0.0251331 , 0.02808182, 0.01970591,\n",
       "        0.01531814, 0.01247666, 0.01132002, 0.01552304, 0.01265812,\n",
       "        0.46757863, 0.02596826, 0.02229762, 0.02684049, 0.10796201],\n",
       "       [0.02174818, 0.09954744, 0.0572469 , 0.09007862, 0.06895243,\n",
       "        0.05487108, 0.02386554, 0.12598259, 0.08188731, 0.02901914,\n",
       "        0.02864597, 0.05735737, 0.04856215, 0.0393438 , 0.03743056,\n",
       "        0.03732151, 0.03308784, 0.02481849, 0.02453403, 0.01569905],\n",
       "       [0.0388627 , 0.0382329 , 0.03964696, 0.04597281, 0.04388186,\n",
       "        0.03833946, 0.02785334, 0.04341352, 0.04147131, 0.0379089 ,\n",
       "        0.03462979, 0.04480947, 0.03977167, 0.24674547, 0.03649542,\n",
       "        0.05117107, 0.04230305, 0.04090467, 0.03998116, 0.02760447]])"
      ]
     },
     "execution_count": 16,
     "metadata": {},
     "output_type": "execute_result"
    }
   ],
   "source": [
    "clf.predict_proba(X_new_tfidf)"
   ]
  },
  {
   "cell_type": "code",
   "execution_count": 17,
   "metadata": {},
   "outputs": [
    {
     "data": {
      "text/plain": [
       "['alt.atheism',\n",
       " 'comp.graphics',\n",
       " 'comp.os.ms-windows.misc',\n",
       " 'comp.sys.ibm.pc.hardware',\n",
       " 'comp.sys.mac.hardware',\n",
       " 'comp.windows.x',\n",
       " 'misc.forsale',\n",
       " 'rec.autos',\n",
       " 'rec.motorcycles',\n",
       " 'rec.sport.baseball',\n",
       " 'rec.sport.hockey',\n",
       " 'sci.crypt',\n",
       " 'sci.electronics',\n",
       " 'sci.med',\n",
       " 'sci.space',\n",
       " 'soc.religion.christian',\n",
       " 'talk.politics.guns',\n",
       " 'talk.politics.mideast',\n",
       " 'talk.politics.misc',\n",
       " 'talk.religion.misc']"
      ]
     },
     "execution_count": 17,
     "metadata": {},
     "output_type": "execute_result"
    }
   ],
   "source": [
    "twenty_train.target_names"
   ]
  },
  {
   "cell_type": "markdown",
   "metadata": {},
   "source": [
    "# Building a pipeline"
   ]
  },
  {
   "cell_type": "code",
   "execution_count": 18,
   "metadata": {},
   "outputs": [],
   "source": [
    "from sklearn.pipeline import Pipeline\n",
    "text_clf = Pipeline([\n",
    "    ('vect', CountVectorizer()),\n",
    "    ('tfidf', TfidfTransformer()),\n",
    "    ('clf', MultinomialNB()),\n",
    "])"
   ]
  },
  {
   "cell_type": "code",
   "execution_count": 19,
   "metadata": {},
   "outputs": [
    {
     "data": {
      "text/plain": [
       "Pipeline(memory=None,\n",
       "     steps=[('vect', CountVectorizer(analyzer='word', binary=False, decode_error='strict',\n",
       "        dtype=<class 'numpy.int64'>, encoding='utf-8', input='content',\n",
       "        lowercase=True, max_df=1.0, max_features=None, min_df=1,\n",
       "        ngram_range=(1, 1), preprocessor=None, stop_words=None,\n",
       "        strip...inear_tf=False, use_idf=True)), ('clf', MultinomialNB(alpha=1.0, class_prior=None, fit_prior=True))])"
      ]
     },
     "execution_count": 19,
     "metadata": {},
     "output_type": "execute_result"
    }
   ],
   "source": [
    "text_clf.fit(twenty_train.data, twenty_train.target)"
   ]
  },
  {
   "cell_type": "markdown",
   "metadata": {},
   "source": [
    "# Evaluation of performance"
   ]
  },
  {
   "cell_type": "code",
   "execution_count": 20,
   "metadata": {},
   "outputs": [
    {
     "data": {
      "text/plain": [
       "0.7738980350504514"
      ]
     },
     "execution_count": 20,
     "metadata": {},
     "output_type": "execute_result"
    }
   ],
   "source": [
    "import numpy as np\n",
    "twenty_test = fetch_20newsgroups(subset='test',\n",
    "    categories=categories, shuffle=True, random_state=42)\n",
    "docs_test = twenty_test.data\n",
    "predicted = text_clf.predict(docs_test)\n",
    "np.mean(predicted == twenty_test.target)"
   ]
  },
  {
   "cell_type": "code",
   "execution_count": 37,
   "metadata": {},
   "outputs": [
    {
     "data": {
      "text/plain": [
       "0.7498672331386086"
      ]
     },
     "execution_count": 37,
     "metadata": {},
     "output_type": "execute_result"
    }
   ],
   "source": [
    "from sklearn.linear_model import SGDClassifier\n",
    "text_clf = Pipeline([\n",
    "    ('vect', CountVectorizer()),\n",
    "    ('tfidf', TfidfTransformer()),\n",
    "    ('clf', SGDClassifier(loss='log', penalty='l2',\n",
    "                          alpha=1e-3, random_state=42,\n",
    "                          max_iter=5, tol=None)),\n",
    "])\n",
    "\n",
    "text_clf.fit(twenty_train.data, twenty_train.target)  \n",
    "\n",
    "predicted = text_clf.predict(docs_test)\n",
    "np.mean(predicted == twenty_test.target) "
   ]
  },
  {
   "cell_type": "code",
   "execution_count": 38,
   "metadata": {},
   "outputs": [
    {
     "name": "stdout",
     "output_type": "stream",
     "text": [
      "                          precision    recall  f1-score   support\n",
      "\n",
      "             alt.atheism       0.77      0.48      0.59       319\n",
      "           comp.graphics       0.77      0.66      0.71       389\n",
      " comp.os.ms-windows.misc       0.71      0.77      0.74       394\n",
      "comp.sys.ibm.pc.hardware       0.69      0.69      0.69       392\n",
      "   comp.sys.mac.hardware       0.84      0.72      0.77       385\n",
      "          comp.windows.x       0.80      0.72      0.76       395\n",
      "            misc.forsale       0.58      0.89      0.70       390\n",
      "               rec.autos       0.86      0.87      0.87       396\n",
      "         rec.motorcycles       0.91      0.92      0.92       398\n",
      "      rec.sport.baseball       0.83      0.84      0.83       397\n",
      "        rec.sport.hockey       0.87      0.96      0.91       399\n",
      "               sci.crypt       0.78      0.89      0.83       396\n",
      "         sci.electronics       0.85      0.49      0.62       393\n",
      "                 sci.med       0.88      0.69      0.77       396\n",
      "               sci.space       0.82      0.87      0.85       394\n",
      "  soc.religion.christian       0.47      0.94      0.62       398\n",
      "      talk.politics.guns       0.63      0.87      0.73       364\n",
      "   talk.politics.mideast       0.88      0.88      0.88       376\n",
      "      talk.politics.misc       0.98      0.39      0.56       310\n",
      "      talk.religion.misc       0.84      0.10      0.18       251\n",
      "\n",
      "               micro avg       0.75      0.75      0.75      7532\n",
      "               macro avg       0.79      0.73      0.73      7532\n",
      "            weighted avg       0.78      0.75      0.74      7532\n",
      "\n"
     ]
    },
    {
     "data": {
      "text/plain": [
       "array([[153,   1,   0,   0,   0,   0,   8,   1,   3,   5,   0,   1,   1,\n",
       "          8,   1, 115,   1,  16,   0,   5],\n",
       "       [  1, 257,  19,  12,   7,  27,  22,   1,   1,   3,   2,  11,   1,\n",
       "          1,   9,  12,   2,   1,   0,   0],\n",
       "       [  2,  10, 302,  24,   5,   8,   7,   1,   1,   5,   0,   7,   1,\n",
       "          1,   4,  13,   2,   1,   0,   0],\n",
       "       [  1,   4,  34, 272,  13,   4,  20,   7,   1,   2,   1,   8,  13,\n",
       "          0,   6,   5,   1,   0,   0,   0],\n",
       "       [  0,   3,  12,  37, 277,   3,  24,   1,   3,   5,   1,   4,   5,\n",
       "          0,   3,   5,   1,   1,   0,   0],\n",
       "       [  0,  27,  44,   4,   3, 284,  11,   1,   0,   3,   0,   7,   0,\n",
       "          0,   6,   3,   2,   0,   0,   0],\n",
       "       [  0,   0,   1,  18,   5,   0, 349,   5,   1,   1,   2,   0,   2,\n",
       "          1,   1,   4,   0,   0,   0,   0],\n",
       "       [  1,   1,   1,   2,   1,   2,  20, 346,   4,   2,   0,   0,   6,\n",
       "          0,   5,   0,   4,   1,   0,   0],\n",
       "       [  0,   0,   0,   0,   0,   0,   8,  10, 368,   2,   0,   1,   0,\n",
       "          0,   0,   4,   5,   0,   0,   0],\n",
       "       [  0,   0,   0,   0,   1,   0,  17,   0,   0, 332,  32,   0,   0,\n",
       "          0,   0,  12,   2,   1,   0,   0],\n",
       "       [  0,   0,   0,   1,   1,   0,   4,   0,   0,   5, 382,   0,   0,\n",
       "          0,   2,   4,   0,   0,   0,   0],\n",
       "       [  0,   3,   4,   0,   1,   2,  12,   2,   1,   5,   0, 352,   2,\n",
       "          0,   2,   3,   7,   0,   0,   0],\n",
       "       [  3,  11,   7,  24,  12,   6,  29,  10,   5,   7,   3,  43, 191,\n",
       "          7,  13,  18,   2,   2,   0,   0],\n",
       "       [  3,   5,   0,   1,   2,   7,  32,   8,   7,   3,   4,   2,   3,\n",
       "        272,   5,  31,   6,   5,   0,   0],\n",
       "       [  0,   5,   0,   0,   1,   0,   6,   2,   0,   1,   1,   3,   0,\n",
       "          4, 344,  17,   8,   2,   0,   0],\n",
       "       [  4,   3,   2,   0,   0,   1,   5,   0,   0,   3,   2,   0,   1,\n",
       "          1,   3, 373,   0,   0,   0,   0],\n",
       "       [  0,   0,   0,   1,   1,   1,   9,   4,   2,   4,   1,   8,   0,\n",
       "          2,   2,   8, 317,   3,   1,   0],\n",
       "       [  0,   1,   0,   0,   0,   9,   6,   0,   2,   3,   1,   1,   0,\n",
       "          1,   0,  17,   4, 331,   0,   0],\n",
       "       [  1,   0,   0,   0,   0,   2,   8,   1,   2,   2,   2,   6,   0,\n",
       "          2,   9,  34, 112,   9, 120,   0],\n",
       "       [ 31,   3,   0,   1,   0,   1,   9,   2,   3,   7,   5,   0,   0,\n",
       "          9,   3, 120,  26,   4,   1,  26]])"
      ]
     },
     "execution_count": 38,
     "metadata": {},
     "output_type": "execute_result"
    }
   ],
   "source": [
    "from sklearn import metrics\n",
    "print(metrics.classification_report(twenty_test.target, predicted,\n",
    "    target_names=twenty_test.target_names))\n",
    "                                        \n",
    "metrics.confusion_matrix(twenty_test.target, predicted)"
   ]
  },
  {
   "cell_type": "markdown",
   "metadata": {},
   "source": [
    "# Tuning"
   ]
  },
  {
   "cell_type": "code",
   "execution_count": 39,
   "metadata": {},
   "outputs": [],
   "source": [
    "from sklearn.model_selection import GridSearchCV\n",
    "parameters = {\n",
    "    'vect__ngram_range': [(1, 1), (1, 2)],\n",
    "    'tfidf__use_idf': (True, False),\n",
    "    'clf__alpha': (1e-2, 5e-3, 1e-3),\n",
    "}"
   ]
  },
  {
   "cell_type": "code",
   "execution_count": 40,
   "metadata": {},
   "outputs": [],
   "source": [
    "gs_clf = GridSearchCV(text_clf, parameters, cv=5, iid=False, n_jobs=-1)"
   ]
  },
  {
   "cell_type": "code",
   "execution_count": 41,
   "metadata": {},
   "outputs": [],
   "source": [
    "gs_clf = gs_clf.fit(twenty_train.data[:2000], twenty_train.target[:2000])"
   ]
  },
  {
   "cell_type": "code",
   "execution_count": 42,
   "metadata": {},
   "outputs": [
    {
     "data": {
      "text/plain": [
       "'soc.religion.christian'"
      ]
     },
     "execution_count": 42,
     "metadata": {},
     "output_type": "execute_result"
    }
   ],
   "source": [
    "twenty_train.target_names[gs_clf.predict(['God is love'])[0]]"
   ]
  },
  {
   "cell_type": "code",
   "execution_count": 56,
   "metadata": {},
   "outputs": [
    {
     "name": "stdout",
     "output_type": "stream",
     "text": [
      "        misc.forsale : 0.074285 \n",
      "      comp.windows.x : 0.057950 \n",
      "           rec.autos : 0.057457 \n",
      "comp.os.ms-windows.misc : 0.055891 \n",
      "       comp.graphics : 0.055244 \n",
      "comp.sys.ibm.pc.hardware : 0.054361 \n",
      "    rec.sport.hockey : 0.054028 \n",
      "  rec.sport.baseball : 0.051734 \n",
      "             sci.med : 0.051517 \n",
      "     rec.motorcycles : 0.050990 \n",
      "     sci.electronics : 0.050805 \n",
      "           sci.space : 0.049349 \n",
      "comp.sys.mac.hardware : 0.048766 \n",
      "  talk.politics.guns : 0.044031 \n",
      "soc.religion.christian : 0.043190 \n",
      "           sci.crypt : 0.043150 \n",
      "         alt.atheism : 0.040467 \n",
      "  talk.politics.misc : 0.040148 \n",
      "talk.politics.mideast : 0.038906 \n",
      "  talk.religion.misc : 0.037731 \n"
     ]
    }
   ],
   "source": [
    "prob = gs_clf.predict_proba(['I am selling this crap.'])[0]\n",
    "ind = np.argsort(prob)\n",
    "for i in ind[::-1]:\n",
    "    print(\"%20s : %5f \" % (twenty_train.target_names[i], prob[i]))"
   ]
  },
  {
   "cell_type": "code",
   "execution_count": 57,
   "metadata": {},
   "outputs": [
    {
     "name": "stdout",
     "output_type": "stream",
     "text": [
      "clf__alpha: 0.001\n",
      "tfidf__use_idf: True\n",
      "vect__ngram_range: (1, 1)\n"
     ]
    }
   ],
   "source": [
    "gs_clf.best_score_                                  \n",
    "\n",
    "for param_name in sorted(parameters.keys()):\n",
    "    print(\"%s: %r\" % (param_name, gs_clf.best_params_[param_name]))"
   ]
  },
  {
   "cell_type": "code",
   "execution_count": 58,
   "metadata": {},
   "outputs": [
    {
     "data": {
      "text/plain": [
       "{'clf__alpha': 0.001, 'tfidf__use_idf': True, 'vect__ngram_range': (1, 1)}"
      ]
     },
     "execution_count": 58,
     "metadata": {},
     "output_type": "execute_result"
    }
   ],
   "source": [
    "gs_clf.best_params_"
   ]
  },
  {
   "cell_type": "markdown",
   "metadata": {},
   "source": [
    "# Create the model with the best parameters"
   ]
  },
  {
   "cell_type": "code",
   "execution_count": 59,
   "metadata": {},
   "outputs": [],
   "source": [
    "best_clf = text_clf.set_params(**gs_clf.best_params_)"
   ]
  },
  {
   "cell_type": "code",
   "execution_count": 60,
   "metadata": {},
   "outputs": [
    {
     "data": {
      "text/plain": [
       "0.7498672331386086"
      ]
     },
     "execution_count": 60,
     "metadata": {},
     "output_type": "execute_result"
    }
   ],
   "source": [
    "predicted = best_clf.predict(docs_test)\n",
    "np.mean(predicted == twenty_test.target) "
   ]
  },
  {
   "cell_type": "markdown",
   "metadata": {},
   "source": [
    "# Saving the model\n",
    "\n",
    "https://scikit-learn.org/stable/modules/model_persistence.html"
   ]
  },
  {
   "cell_type": "code",
   "execution_count": 31,
   "metadata": {},
   "outputs": [],
   "source": [
    "import joblib"
   ]
  },
  {
   "cell_type": "code",
   "execution_count": 32,
   "metadata": {},
   "outputs": [
    {
     "data": {
      "text/plain": [
       "['best_clf.joblib']"
      ]
     },
     "execution_count": 32,
     "metadata": {},
     "output_type": "execute_result"
    }
   ],
   "source": [
    "joblib.dump(best_clf, 'best_clf.joblib') "
   ]
  },
  {
   "cell_type": "code",
   "execution_count": 36,
   "metadata": {},
   "outputs": [
    {
     "data": {
      "text/plain": [
       "['alt.atheism',\n",
       " 'comp.sys.mac.hardware',\n",
       " 'rec.motorcycles',\n",
       " 'sci.electronics',\n",
       " 'talk.politics.guns',\n",
       " 'comp.graphics',\n",
       " 'comp.windows.x',\n",
       " 'rec.sport.baseball',\n",
       " 'sci.med',\n",
       " 'talk.politics.mideast',\n",
       " 'comp.os.ms-windows.misc',\n",
       " 'misc.forsale',\n",
       " 'rec.sport.hockey',\n",
       " 'sci.space',\n",
       " 'talk.politics.misc',\n",
       " 'comp.sys.ibm.pc.hardware',\n",
       " 'rec.autos',\n",
       " 'sci.crypt',\n",
       " 'soc.religion.christian',\n",
       " 'talk.religion.misc']"
      ]
     },
     "execution_count": 36,
     "metadata": {},
     "output_type": "execute_result"
    }
   ],
   "source": [
    "\"alt.atheism               comp.sys.mac.hardware  rec.motorcycles     sci.electronics         talk.politics.guns comp.graphics             comp.windows.x         rec.sport.baseball  sci.med                 talk.politics.mideast comp.os.ms-windows.misc   misc.forsale           rec.sport.hockey    sci.space               talk.politics.misc comp.sys.ibm.pc.hardware  rec.autos              sci.crypt           soc.religion.christian  talk.religion.misc\".split() "
   ]
  },
  {
   "cell_type": "code",
   "execution_count": null,
   "metadata": {},
   "outputs": [],
   "source": []
  }
 ],
 "metadata": {
  "kernelspec": {
   "display_name": "tf-gpu-2",
   "language": "python",
   "name": "tf-gpu-2"
  },
  "language_info": {
   "codemirror_mode": {
    "name": "ipython",
    "version": 3
   },
   "file_extension": ".py",
   "mimetype": "text/x-python",
   "name": "python",
   "nbconvert_exporter": "python",
   "pygments_lexer": "ipython3",
   "version": "3.6.6"
  }
 },
 "nbformat": 4,
 "nbformat_minor": 2
}
